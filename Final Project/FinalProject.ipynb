{
 "cells": [
  {
   "cell_type": "code",
   "execution_count": 6,
   "metadata": {},
   "outputs": [
    {
     "name": "stdout",
     "output_type": "stream",
     "text": [
      "Bugun caniniz ne yemek istiyor? 1-Makarna, 2- Pilav 3-Omlet: 1\n",
      "\n",
      "\n",
      " MAKARNA TARIFI\n",
      " su  kaynatin ve icine makarna  ekleyin\n",
      "20 dakika kisik ateste pisirmeye birakalim\n",
      "Haslandiktan sonra uzerine biraz  tuz  ekleyip azicik da  tereyag ekledikten sonra bekleyin\n",
      "Yemeginiz servise hazirdir! Afiyet olsun!\n"
     ]
    }
   ],
   "source": [
    "\n",
    "class Food():\n",
    "    def __init(self,name, cooktime):\n",
    "        self.name = name\n",
    "        self.cooktime=cooktime\n",
    "        ingredients = []\n",
    "        \n",
    "    def pisirme():\n",
    "        print(\"20 dakika kisik ateste pisirmeye birakalim\")\n",
    "    \n",
    "    def kapanis():\n",
    "        print(\"Yemeginiz servise hazirdir! Afiyet olsun!\")\n",
    "        \n",
    "class Pasta(Food):\n",
    "    def __init__(self,makarna,su,tuz,tereyag):\n",
    "        self.ing1 = makarna\n",
    "        self.ing2 = su\n",
    "        self.ing3 = tuz\n",
    "        self.ing4 = tereyag  \n",
    "        \n",
    "    def makarnayapma(self):\n",
    "        print(\"\\n\\n MAKARNA TARIFI\\n\",self.ing2,\" kaynatin ve icine\",self.ing1,\" ekleyin\")\n",
    "        Food.pisirme()\n",
    "        print(\"Haslandiktan sonra uzerine biraz \",self.ing3,\" ekleyip azicik da \",self.ing4,\"ekledikten sonra bekleyin\" )\n",
    "        Food.kapanis()\n",
    "        \n",
    "    def getIngredients(self):\n",
    "        ingredients= []\n",
    "        ingredient = str(input(\"Please add ingredients: \"))\n",
    "        ingredients.append(ingredient)\n",
    "    def getname(self):\n",
    "        print(self.name)\n",
    "class Pilav(Food):\n",
    "    def __init__(self,pirinc,su,tuz,tereyag):\n",
    "        self.ing1 = pirinc\n",
    "        self.ing2 = su\n",
    "        self.ing3 = tuz\n",
    "        self.ing4 = tereyag\n",
    "    \n",
    "    def pilavyapma(self):\n",
    "        print(\"\\n\\n PILAV TARIFI\\n\",self.ing4,\" malzemesini tavada isitin ve\",self.ing2,\" ekleyin\")\n",
    "        Food.pisirme()\n",
    "        print(\"Kapagini acip biraz dinlendirin!\")\n",
    "        Food.kapanis()\n",
    "\n",
    "class Omlet(Food):\n",
    "    def __init__(self,yumurta,peynir,tuz,tereyag):\n",
    "        self.ing1 = yumurta\n",
    "        self.ing2 = peynir\n",
    "        self.ing3 = tuz\n",
    "        self.ing4 = tereyag\n",
    "    \n",
    "    def omletyapma(self):\n",
    "        print(\"\\n\\n OMLET TARIFI\\n\",self.ing4,\" tavada eridikten sonra 3 adet \",self.ing1,\" kirip ustune de biraz \",self.ing2,\" rendeleyin\")\n",
    "        Food.pisirme()\n",
    "        Food.kapanis()\n",
    "        \n",
    "pisirilecek = int(input(\"Bugun caniniz ne yemek istiyor? 1-Makarna, 2- Pilav 3-Omlet: \"))       \n",
    "        \n",
    "if pisirilecek == 1:\n",
    "    makarna = Pasta(\"makarna\",\"su\",\"tuz\",\"tereyag\")\n",
    "    makarna.makarnayapma()\n",
    "elif pisirilecek == 2:\n",
    "    pilav = Pilav(\"pirinç\",\"su\",\"tuz\",\"tereyag\")\n",
    "    pilav.pilavyapma()\n",
    "\n",
    "else:\n",
    "    omlet = Omlet(\"yumurta\",\"peynir\",\"tuz\",\"tereyag\")\n",
    "    omlet.omletyapma()\n",
    "\n"
   ]
  },
  {
   "cell_type": "code",
   "execution_count": null,
   "metadata": {},
   "outputs": [],
   "source": []
  },
  {
   "cell_type": "code",
   "execution_count": null,
   "metadata": {},
   "outputs": [],
   "source": []
  }
 ],
 "metadata": {
  "kernelspec": {
   "display_name": "Python 3",
   "language": "python",
   "name": "python3"
  },
  "language_info": {
   "codemirror_mode": {
    "name": "ipython",
    "version": 3
   },
   "file_extension": ".py",
   "mimetype": "text/x-python",
   "name": "python",
   "nbconvert_exporter": "python",
   "pygments_lexer": "ipython3",
   "version": "3.7.6"
  }
 },
 "nbformat": 4,
 "nbformat_minor": 4
}
