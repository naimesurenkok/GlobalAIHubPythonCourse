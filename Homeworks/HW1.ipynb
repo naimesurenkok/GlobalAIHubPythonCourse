{
 "cells": [
  {
   "cell_type": "code",
   "execution_count": null,
   "metadata": {},
   "outputs": [],
   "source": [
    "primenumbers = []\n",
    "num=0\n",
    "isPrime= True\n",
    "\n",
    "for i in range (2,100):\n",
    "    for j in range(2,i):\n",
    "        if (i%j == 0):\n",
    "            isPrime = False\n",
    "            j += 1\n",
    "            break\n",
    "        elif (i%j !=0):\n",
    "            j += 1\n",
    "            isPrime = True\n",
    "    if isPrime == True:\n",
    "            primenumbers.append(i)\n",
    "            num += 1\n",
    "    if num >= 9:\n",
    "        break\n",
    "\n",
    "\n",
    "\n",
    "primematrix =[]\n",
    "\n",
    "primematrix = [[primenumbers[0],primenumbers[1], primenumbers[2]], [primenumbers[3],primenumbers[4], primenumbers[5]],[primenumbers[6],primenumbers[7], primenumbers[8]]]\n",
    "\n",
    "print (primematrix)"
   ]
  }
 ],
 "metadata": {
  "kernelspec": {
   "display_name": "Python 3",
   "language": "python",
   "name": "python3"
  },
  "language_info": {
   "codemirror_mode": {
    "name": "ipython",
    "version": 3
   },
   "file_extension": ".py",
   "mimetype": "text/x-python",
   "name": "python",
   "nbconvert_exporter": "python",
   "pygments_lexer": "ipython3",
   "version": "3.7.6"
  }
 },
 "nbformat": 4,
 "nbformat_minor": 4
}
