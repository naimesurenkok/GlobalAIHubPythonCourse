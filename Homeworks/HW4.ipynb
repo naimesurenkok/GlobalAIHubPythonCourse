{
 "cells": [
  {
   "cell_type": "code",
   "execution_count": 3,
   "metadata": {},
   "outputs": [
    {
     "name": "stdout",
     "output_type": "stream",
     "text": [
      "enter five words for your game: yu yu\n",
      "enter five words for your game: ags asf\n",
      "enter five words for your game: fds af\n",
      "enter five words for your game: aa aa\n",
      "enter five words for your game: dasf fsdf\n",
      "Now your opponent will try to guess the word\n",
      "ags asf\n",
      "['*', '*', '*', '*', '*', '*', '*']\n",
      "*******\n",
      "try one letter please:  \n",
      "*** ***\n",
      "try one letter please: s\n",
      "**s *s*\n",
      "try one letter please: a\n",
      "a*s as*\n",
      "try one letter please: a\n",
      "a*s as*\n",
      "try one letter please: d\n",
      "sorry, it does not exist, number of guesses left  1\n",
      "try one letter please: f\n",
      "a*s asf\n",
      "try one letter please: sa\n",
      "sorry, it does not exist, number of guesses left  2\n",
      "try one letter please: a\n",
      "a*s asf\n",
      "try one letter please: z\n",
      "sorry, it does not exist, number of guesses left  3\n",
      "try one letter please: zx\n",
      "sorry, it does not exist, number of guesses left  4\n",
      "try one letter please: q\n",
      "sorry, it does not exist, number of guesses left  5\n",
      "sorry, you lost!\n"
     ]
    }
   ],
   "source": [
    "import random as rnd\n",
    "\n",
    "\n",
    "class Hangmen():\n",
    "    def __init__(self):\n",
    "        self.words = []\n",
    "        self.numberofguesses = 6\n",
    "    def chooseword(self):\n",
    "        \n",
    "        words = []\n",
    "        for i in range(5):\n",
    "            word = str(input(\"enter five words for your game: \"))\n",
    "            words.append(word)\n",
    "        chosenword = rnd.choice(words)\n",
    "        print(\"Now your opponent will try to guess the word\")\n",
    "        #print (chosenword)\n",
    "        return chosenword\n",
    "       \n",
    "    def guessletter(self,acharacter,chosenword):\n",
    "        guessedword = chosenword\n",
    "        wrongguesses = 0\n",
    "        newchosenwordlist = list(chosenword)\n",
    "        newlist = list(guessedword)\n",
    "        for i in range(len(newlist)):\n",
    "            newlist[i] = \"*\"\n",
    "        print(guessedword)\n",
    "        print(newlist)   \n",
    "        newword = \"\".join(newlist)\n",
    "        print(newword)\n",
    "        while (wrongguesses <6):\n",
    "            guessed = str(input(\"try one letter please: \"))\n",
    "            if guessedword.find(guessed) == -1:\n",
    "                print(\"sorry, it does not exist, number of guesses left \",wrongguesses+1 )\n",
    "                wrongguesses += 1\n",
    "            else: #Here where we guessed right\n",
    "                indextochange = guessedword.find(guessed)\n",
    "                for i in range(len(chosenword)):\n",
    "                    if newchosenwordlist[i] == guessed:\n",
    "                        newlist[i] = guessed\n",
    "                #newlist[indextochange] = guessed\n",
    "                newword = \"\".join(newlist)\n",
    "                print(newword)\n",
    "                if newword.find(\"*\") ==-1:\n",
    "                    print(\"Wow you found it, congratulations!\")\n",
    "                    break\n",
    "            if wrongguesses == 5:\n",
    "                print(\"sorry, you lost!\")\n",
    "                break\n",
    "       \n",
    "    \n",
    "\n",
    "newgame = Hangmen()\n",
    "    \n",
    "wordie = newgame.chooseword() \n",
    "list(wordie)\n",
    "newgame.guessletter(\"a\",wordie)\n",
    "        "
   ]
  },
  {
   "cell_type": "code",
   "execution_count": null,
   "metadata": {},
   "outputs": [],
   "source": []
  },
  {
   "cell_type": "code",
   "execution_count": null,
   "metadata": {},
   "outputs": [],
   "source": []
  },
  {
   "cell_type": "code",
   "execution_count": null,
   "metadata": {},
   "outputs": [],
   "source": []
  },
  {
   "cell_type": "code",
   "execution_count": null,
   "metadata": {},
   "outputs": [],
   "source": []
  }
 ],
 "metadata": {
  "kernelspec": {
   "display_name": "Python 3",
   "language": "python",
   "name": "python3"
  },
  "language_info": {
   "codemirror_mode": {
    "name": "ipython",
    "version": 3
   },
   "file_extension": ".py",
   "mimetype": "text/x-python",
   "name": "python",
   "nbconvert_exporter": "python",
   "pygments_lexer": "ipython3",
   "version": "3.7.6"
  }
 },
 "nbformat": 4,
 "nbformat_minor": 4
}
