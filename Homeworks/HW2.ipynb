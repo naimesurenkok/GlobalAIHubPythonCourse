{
 "cells": [
  {
   "cell_type": "code",
   "execution_count": null,
   "metadata": {},
   "outputs": [],
   "source": []
  },
  {
   "cell_type": "code",
   "execution_count": null,
   "metadata": {},
   "outputs": [],
   "source": [
    "namelist = []\n",
    "surnamelist = []\n",
    "notes = []\n",
    "gradelist = []\n",
    "finalgrade = []\n",
    "glossary = {}\n",
    "\n",
    "for i in range(5):\n",
    "    name = str(input(\"Name of the student: \"))\n",
    "    surname = str(input(\"Surname of the student: \"))\n",
    "    midterm = int(input(\"Midterm grade: \"))\n",
    "    final = int(input(\"Final grade: \"))\n",
    "    hw = int(input(\"Homework grade: \"))\n",
    "    gradelist.append([midterm, final, hw])\n",
    "    grade = (midterm+final+hw)/3\n",
    "    namelist.append(name +\" \"+surname)\n",
    "    finalgrade.append(grade)\n",
    "    #print(namelist)\n",
    "    #print(gradelist)\n",
    "    #print(grade)\n",
    "\n",
    "glossary = {i+1:[namelist[i],gradelist[i],finalgrade[i]] for i in range(5)}\n",
    "finalgrade.sort()\n",
    "#print(\"The grades of all students are here: \",finalgrade)\n",
    "#print(\"iste sozluk\", glossary)  \n",
    "for k,v in glossary.items():\n",
    "    if v[2] == finalgrade[-1]:\n",
    "        print(\"The most successful student is called as\",v[0],\"and the average grade of this student is \", v[2])"
   ]
  },
  {
   "cell_type": "code",
   "execution_count": null,
   "metadata": {},
   "outputs": [],
   "source": []
  }
 ],
 "metadata": {
  "kernelspec": {
   "display_name": "Python 3",
   "language": "python",
   "name": "python3"
  },
  "language_info": {
   "codemirror_mode": {
    "name": "ipython",
    "version": 3
   },
   "file_extension": ".py",
   "mimetype": "text/x-python",
   "name": "python",
   "nbconvert_exporter": "python",
   "pygments_lexer": "ipython3",
   "version": "3.7.6"
  }
 },
 "nbformat": 4,
 "nbformat_minor": 4
}
